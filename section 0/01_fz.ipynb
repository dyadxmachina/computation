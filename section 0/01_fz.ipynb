{
 "cells": [
  {
   "cell_type": "markdown",
   "metadata": {},
   "source": [
    "# Problem Set 0"
   ]
  },
  {
   "cell_type": "code",
   "execution_count": 1,
   "metadata": {},
   "outputs": [],
   "source": [
    "import math \n",
    "\n",
    "def love():\n",
    "    \"\"\"\n",
    "    this function takes numbers x and y, and prints x to the power of y and the log based 2 of x\n",
    "    \"\"\"\n",
    "    x = int(input(\"Enter x\"))\n",
    "    y = int(input(\"Enter y\"))\n",
    "    \n",
    "    z = x**y\n",
    "    \n",
    "    a = math.log2(x)\n",
    "    print(\"Raised power: \", z)\n",
    "    print(\"Log 2 X: \", a)\n",
    "    return (z)\n",
    "    \n",
    "def love2(x, y):\n",
    "    \"\"\"\n",
    "    this function takes numbers x and y, and prints x to the power of y and the log based 2 of x\n",
    "    \"\"\"\n",
    "#     x = int(input(\"Enter x\"))\n",
    "#     y = int(input(\"Enter y\"))\n",
    "    \n",
    "    z = x**y\n",
    "    \n",
    "    a = math.log2(x)\n",
    "    print(\"Raised power: \", z)\n",
    "    print(\"Log 2 X: \", a)\n",
    "    outcome = [z,a]\n",
    "    print(outcome)\n",
    "    return (outcome)\n",
    "        "
   ]
  },
  {
   "cell_type": "code",
   "execution_count": 5,
   "metadata": {},
   "outputs": [
    {
     "name": "stderr",
     "output_type": "stream",
     "text": [
      ".E"
     ]
    },
    {
     "name": "stdout",
     "output_type": "stream",
     "text": [
      "Raised power:  16\n",
      "Log 2 X:  1.0\n",
      "[16, 1.0]\n"
     ]
    },
    {
     "name": "stderr",
     "output_type": "stream",
     "text": [
      "\n",
      "======================================================================\n",
      "ERROR: test_string (__main__.TestLoveMethods)\n",
      "----------------------------------------------------------------------\n",
      "Traceback (most recent call last):\n",
      "  File \"<ipython-input-5-abad0c36dfd9>\", line 8, in test_string\n",
      "    self.assertEqual(love2('2','4'), [16, 1])\n",
      "  File \"<ipython-input-1-caf5f1f68e6e>\", line 24, in love2\n",
      "    z = x**y\n",
      "TypeError: unsupported operand type(s) for ** or pow(): 'str' and 'str'\n",
      "\n",
      "----------------------------------------------------------------------\n",
      "Ran 2 tests in 0.002s\n",
      "\n",
      "FAILED (errors=1)\n"
     ]
    }
   ],
   "source": [
    "import unittest\n",
    "\n",
    "class TestLoveMethods(unittest.TestCase):\n",
    "\n",
    "    def test_correct(self):\n",
    "        self.assertEqual(love2(2,4), [16, 1])\n",
    "        \n",
    "    def test_string(self):\n",
    "        self.assertEqual(love2('2','4'), [16, 1])        \n",
    "\n",
    "\n",
    "if __name__ == '__main__':\n",
    "    unittest.main(argv=['first-arg-is-ignored'], exit=False)"
   ]
  },
  {
   "cell_type": "code",
   "execution_count": null,
   "metadata": {},
   "outputs": [],
   "source": []
  }
 ],
 "metadata": {
  "kernelspec": {
   "display_name": "Python 3",
   "language": "python",
   "name": "python3"
  },
  "language_info": {
   "codemirror_mode": {
    "name": "ipython",
    "version": 3
   },
   "file_extension": ".py",
   "mimetype": "text/x-python",
   "name": "python",
   "nbconvert_exporter": "python",
   "pygments_lexer": "ipython3",
   "version": "3.6.4"
  }
 },
 "nbformat": 4,
 "nbformat_minor": 2
}
