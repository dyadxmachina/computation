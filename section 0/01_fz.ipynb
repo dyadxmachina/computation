{
 "cells": [
  {
   "cell_type": "markdown",
   "metadata": {},
   "source": [
    "# Problem Set 0"
   ]
  },
  {
   "cell_type": "code",
   "execution_count": 6,
   "metadata": {},
   "outputs": [],
   "source": [
    "import math \n",
    "\n",
    "def two_outs():\n",
    "    \"\"\"\n",
    "    this function takes numbers x and y, and prints x to the power of y and the log based 2 of x\n",
    "    \"\"\"\n",
    "    x = int(input(\"Enter x\"))\n",
    "    y = int(input(\"Enter y\"))\n",
    "    \n",
    "    z = x**y\n",
    "    \n",
    "    a = math.log2(x)\n",
    "    print(\"Raised power: \", z)\n",
    "    print(\"Log 2 X: \", a)\n",
    "    return (z)\n",
    "    \n",
    "def two_outs_input(x, y):\n",
    "    \"\"\"\n",
    "    this function takes numbers x and y, and prints x to the power of y and the log based 2 of x\n",
    "    \"\"\"\n",
    "#     x = int(input(\"Enter x\"))\n",
    "#     y = int(input(\"Enter y\"))\n",
    "    x = int(x)\n",
    "    y = int(y)    \n",
    "    \n",
    "    z = x**y\n",
    "    \n",
    "    a = math.log2(x)\n",
    "    print(\"Raised power: \", z)\n",
    "    print(\"Log 2 X: \", a)\n",
    "    outcome = [z,a]\n",
    "    print(outcome)\n",
    "    return (outcome)\n",
    "        "
   ]
  },
  {
   "cell_type": "code",
   "execution_count": 7,
   "metadata": {},
   "outputs": [
    {
     "name": "stderr",
     "output_type": "stream",
     "text": [
      ".."
     ]
    },
    {
     "name": "stdout",
     "output_type": "stream",
     "text": [
      "Raised power:  16\n",
      "Log 2 X:  1.0\n",
      "[16, 1.0]\n",
      "Raised power:  16\n",
      "Log 2 X:  1.0\n",
      "[16, 1.0]\n"
     ]
    },
    {
     "name": "stderr",
     "output_type": "stream",
     "text": [
      "\n",
      "----------------------------------------------------------------------\n",
      "Ran 2 tests in 0.002s\n",
      "\n",
      "OK\n"
     ]
    }
   ],
   "source": [
    "import unittest\n",
    "\n",
    "class TestLoveMethods(unittest.TestCase):\n",
    "\n",
    "    def test_correct(self):\n",
    "        self.assertEqual(two_outs_input(2,4), [16, 1])\n",
    "        \n",
    "    def test_string(self):\n",
    "        self.assertEqual(two_outs_input('2','4'), [16, 1])        \n",
    "\n",
    "\n",
    "if __name__ == '__main__':\n",
    "    unittest.main(argv=['first-arg-is-ignored'], exit=False)"
   ]
  },
  {
   "cell_type": "code",
   "execution_count": null,
   "metadata": {},
   "outputs": [],
   "source": []
  }
 ],
 "metadata": {
  "kernelspec": {
   "display_name": "Python 3",
   "language": "python",
   "name": "python3"
  },
  "language_info": {
   "codemirror_mode": {
    "name": "ipython",
    "version": 3
   },
   "file_extension": ".py",
   "mimetype": "text/x-python",
   "name": "python",
   "nbconvert_exporter": "python",
   "pygments_lexer": "ipython3",
   "version": "3.6.4"
  }
 },
 "nbformat": 4,
 "nbformat_minor": 2
}
