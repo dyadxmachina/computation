{
 "cells": [
  {
   "cell_type": "code",
   "execution_count": 12,
   "metadata": {},
   "outputs": [],
   "source": [
    "def house_hunting():\n",
    "    annual_salary = float(input('Please input your annual salary: '))\n",
    "    portion_saved = float(input('Please input the portion of salary you plan to save each month for the new house(in decimal form): '))\n",
    "    total_cost = float(input('Please input the price of your dream house: '))\n",
    "    semi_annual_raise = float(input('Please input your semi-annual raise ration in a decimal form: '))\n",
    "    portion_down_payment = total_cost * 0.25\n",
    "    \n",
    "    current_savings = 0\n",
    "    n = 0\n",
    "    r = 0.04\n",
    "#     mth_savings = (annual_salary/12)*portion_saved\n",
    "    \n",
    "    while current_savings < portion_down_payment: \n",
    "        if n % 6 == 0:\n",
    "            annual_salary += annual_salary*(semi_annual_raise)\n",
    "        n += 1\n",
    "        current_savings += ((annual_salary/12)*portion_saved) *((1+r/12)**(n-1))\n",
    "        \n",
    "        \n",
    "    return n "
   ]
  },
  {
   "cell_type": "code",
   "execution_count": 13,
   "metadata": {},
   "outputs": [
    {
     "name": "stdout",
     "output_type": "stream",
     "text": [
      "Please input your annual salary: 120000\n",
      "Please input the portion of salary you plan to save each month for the new house(in decimal form): 0.05\n",
      "Please input the price of your dream house: 500000\n",
      "Please input your semi-annual raise ration in a decimal form: 0.03\n"
     ]
    },
    {
     "data": {
      "text/plain": [
       "135"
      ]
     },
     "execution_count": 13,
     "metadata": {},
     "output_type": "execute_result"
    }
   ],
   "source": [
    "house_hunting()"
   ]
  },
  {
   "cell_type": "code",
   "execution_count": null,
   "metadata": {},
   "outputs": [],
   "source": []
  },
  {
   "cell_type": "code",
   "execution_count": null,
   "metadata": {},
   "outputs": [],
   "source": []
  },
  {
   "cell_type": "code",
   "execution_count": null,
   "metadata": {},
   "outputs": [],
   "source": []
  },
  {
   "cell_type": "markdown",
   "metadata": {},
   "source": [
    "# NEXT STEP\n",
    "1. unittest \n",
    "2. \"what if the house price is inflating every year by 1% before you can reach your down payment how long will that you\""
   ]
  },
  {
   "cell_type": "code",
   "execution_count": null,
   "metadata": {},
   "outputs": [],
   "source": []
  }
 ],
 "metadata": {
  "kernelspec": {
   "display_name": "Python 3",
   "language": "python",
   "name": "python3"
  },
  "language_info": {
   "codemirror_mode": {
    "name": "ipython",
    "version": 3
   },
   "file_extension": ".py",
   "mimetype": "text/x-python",
   "name": "python",
   "nbconvert_exporter": "python",
   "pygments_lexer": "ipython3",
   "version": "3.6.3"
  }
 },
 "nbformat": 4,
 "nbformat_minor": 2
}
