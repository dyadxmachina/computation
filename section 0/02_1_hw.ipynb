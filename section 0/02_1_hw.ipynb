{
 "cells": [
  {
   "cell_type": "code",
   "execution_count": 5,
   "metadata": {},
   "outputs": [],
   "source": [
    "def house_hunting():\n",
    "    annual_salary = float(input('Please input your annual salary: '))\n",
    "    portion_saved = float(input('Please input the portion of salary you plan to save each month for the new house(in decimal form): '))\n",
    "    total_cost = float(input('Please input the price of your dream house: '))\n",
    "    \n",
    "    portion_down_payment = total_cost * 0.25\n",
    "    \n",
    "    current_savings = 0\n",
    "    n = 0\n",
    "    r = 0.04\n",
    "    mth_savings = (annual_salary/12)*portion_saved\n",
    "    \n",
    "    while current_savings < portion_down_payment: \n",
    "        n += 1\n",
    "        current_savings += ((annual_salary/12)*portion_saved) *((1+r/12)**(n-1))\n",
    "#         n += 1\n",
    "    return n \n",
    "        "
   ]
  },
  {
   "cell_type": "code",
   "execution_count": 6,
   "metadata": {
    "scrolled": true
   },
   "outputs": [
    {
     "name": "stdout",
     "output_type": "stream",
     "text": [
      "Please input your annual salary: 120000\n",
      "Please input the portion of salary you plan to save each month for the new house(in decimal form): 0.1\n",
      "Please input the price of your dream house: 1000000\n"
     ]
    },
    {
     "data": {
      "text/plain": [
       "183"
      ]
     },
     "execution_count": 6,
     "metadata": {},
     "output_type": "execute_result"
    }
   ],
   "source": [
    "house_hunting()"
   ]
  },
  {
   "cell_type": "code",
   "execution_count": 7,
   "metadata": {},
   "outputs": [
    {
     "name": "stdout",
     "output_type": "stream",
     "text": [
      "Please input your annual salary: 80000\n",
      "Please input the portion of salary you plan to save each month for the new house(in decimal form): 0.15\n",
      "Please input the price of your dream house: 500000\n"
     ]
    },
    {
     "data": {
      "text/plain": [
       "105"
      ]
     },
     "execution_count": 7,
     "metadata": {},
     "output_type": "execute_result"
    }
   ],
   "source": [
    "house_hunting()"
   ]
  },
  {
   "cell_type": "code",
   "execution_count": null,
   "metadata": {},
   "outputs": [],
   "source": []
  }
 ],
 "metadata": {
  "kernelspec": {
   "display_name": "Python 3",
   "language": "python",
   "name": "python3"
  },
  "language_info": {
   "codemirror_mode": {
    "name": "ipython",
    "version": 3
   },
   "file_extension": ".py",
   "mimetype": "text/x-python",
   "name": "python",
   "nbconvert_exporter": "python",
   "pygments_lexer": "ipython3",
   "version": "3.6.3"
  }
 },
 "nbformat": 4,
 "nbformat_minor": 2
}
