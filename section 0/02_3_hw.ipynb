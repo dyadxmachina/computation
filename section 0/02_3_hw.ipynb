{
 "cells": [
  {
   "cell_type": "code",
   "execution_count": null,
   "metadata": {},
   "outputs": [],
   "source": [
    "def house_hunting():\n",
    "    annual_salary = float(input('Please input your annual salary: '))\n",
    "    portion_down_payment = total_cost * 0.25\n",
    "    \n",
    "    current_savings = 0\n",
    "    n = 0\n",
    "    r = 0.04\n",
    "    semi_salary_raise = 0.07\n",
    "    total_cost = 1000000\n",
    "    \n",
    "    semi_annual_salary = annual_salary/2\n",
    "    mth_salary = annual_salary/12\n",
    "    \n",
    "    \n",
    "    \n",
    "   # mth_savings = mth_salary*portion_saved\n",
    "    "
   ]
  },
  {
   "cell_type": "code",
   "execution_count": null,
   "metadata": {},
   "outputs": [],
   "source": [
    "house_hunting()"
   ]
  },
  {
   "cell_type": "code",
   "execution_count": null,
   "metadata": {},
   "outputs": [],
   "source": []
  },
  {
   "cell_type": "code",
   "execution_count": null,
   "metadata": {},
   "outputs": [],
   "source": [
    "def binary_search(x, search_list):\n",
    "    iterations = 1\n",
    "    left = 0 # Determines the starting index of the list we have to search in\n",
    "    right = len(search_list)-1 # Determines the last index of the list we have to search in\n",
    "    mid = (right + left)/2\n",
    "    while search_list[mid] != x: # If this is not our search element\n",
    "        # If the current middle element is less than x then move the left next to mid\n",
    "        # Else we move right next to mid\n",
    "        if  search_list[mid] < x:\n",
    "            left = mid + 1\n",
    "        else:\n",
    "            right = mid - 1\n",
    "        mid = (right + left)/2\n",
    "        iterations += 1\n",
    "    print 'iterations = ',str(iterations)\n",
    "    return mid\n",
    "\n",
    "print(binary_search(32, [4,8,9,10,24,32,45,56]))\n",
    "\n",
    "\n",
    "def house_hunting():\n",
    "    annual_salary = float(input('Please input your annual salary: '))\n",
    "   # portion_saved = float(input('Please input the portion of salary you plan to save each month for the new house(in decimal form): '))\n",
    "   # total_cost = float(input('Please input the price of your dream house: '))\n",
    "    #semi_annual_raise = float(input('Please input your semi-annual raise ration in a decimal form: '))\n",
    "    portion_down_payment = total_cost * 0.25\n",
    "    \n",
    "    current_savings = 0\n",
    "    n = 0\n",
    "    r = 0.04\n",
    "    semi_salary_raise = 0.07\n",
    "    total_cost = 1000000\n",
    "    \n",
    "    semi_annual_salary = annual_salary/2\n",
    "    mth_salary = annual_salary/12\n",
    "   # mth_savings = mth_salary*portion_saved\n",
    "    \n",
    "    while current_savings < portion_down_payment:\n",
    "        \n",
    "        if n < 3*12:  \n",
    "            n += 1\n",
    "            mth_savings = mth_salary*(portion_saved/10000)\n",
    "            current_savings = current_savings *((1+r/12)) + mth_savings\n",
    "\n",
    "\n",
    "            if n % 6 == 0:\n",
    "    #             print('    ',n)\n",
    "    #             print('   ', mth_savings)\n",
    "    #             mth_savings = semi_annual_salary*(1 + semi_annual_raise)/6 * portion_saved\n",
    "        \n",
    "                annual_salary = annual_salary*(semi_annual_raise) + annual_salary\n",
    "                mth_salary = annual_salary/12\n",
    "      \n",
    "                \n",
    "        else:\n",
    "            return \"It is impossible to pay he down paymen in 3 years!\"\n",
    "\n",
    "    return portion_saved, seach_step  "
   ]
  },
  {
   "cell_type": "code",
   "execution_count": null,
   "metadata": {},
   "outputs": [],
   "source": []
  },
  {
   "cell_type": "markdown",
   "metadata": {},
   "source": [
    "# NEXT STEP\n",
    "1. unittest \n",
    "2. \"what if the house price is inflating every year by 1% before you can reach your down payment how long will that you\""
   ]
  },
  {
   "cell_type": "code",
   "execution_count": null,
   "metadata": {},
   "outputs": [],
   "source": []
  }
 ],
 "metadata": {
  "kernelspec": {
   "display_name": "Python 3",
   "language": "python",
   "name": "python3"
  },
  "language_info": {
   "codemirror_mode": {
    "name": "ipython",
    "version": 3
   },
   "file_extension": ".py",
   "mimetype": "text/x-python",
   "name": "python",
   "nbconvert_exporter": "python",
   "pygments_lexer": "ipython3",
   "version": "3.6.3"
  }
 },
 "nbformat": 4,
 "nbformat_minor": 2
}
