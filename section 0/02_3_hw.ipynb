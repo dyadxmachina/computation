{
 "cells": [
  {
   "cell_type": "code",
   "execution_count": 57,
   "metadata": {},
   "outputs": [],
   "source": [
    "def binary_search(x, search_list):\n",
    "    iterations = 1\n",
    "    left = 0 # Determines the starting index of the list we have to search in\n",
    "    right = len(search_list)-1 # Determines the last index of the list we have to search in\n",
    "    mid = (right + left)/2\n",
    "    while search_list[mid] != x: # If this is not our search element\n",
    "        # If the current middle element is less than x then move the left next to mid\n",
    "        # Else we move right next to mid\n",
    "        if  search_list[mid] < x:\n",
    "            left = mid + 1\n",
    "        else:\n",
    "            right = mid - 1\n",
    "        mid = (right + left)/2\n",
    "        iterations += 1\n",
    "    print 'iterations = ',str(iterations)\n",
    "    return mid\n",
    "\n",
    "print(binary_search(32, [4,8,9,10,24,32,45,56]))\n",
    "\n",
    "\n",
    "def house_hunting():\n",
    "    annual_salary = float(input('Please input your annual salary: '))\n",
    "   # portion_saved = float(input('Please input the portion of salary you plan to save each month for the new house(in decimal form): '))\n",
    "   # total_cost = float(input('Please input the price of your dream house: '))\n",
    "    #semi_annual_raise = float(input('Please input your semi-annual raise ration in a decimal form: '))\n",
    "    portion_down_payment = total_cost * 0.25\n",
    "    \n",
    "    current_savings = 0\n",
    "    n = 0\n",
    "    r = 0.04\n",
    "    semi_salary_raise = 0.07\n",
    "    total_cost = 1000000\n",
    "    \n",
    "    semi_annual_salary = annual_salary/2\n",
    "    mth_salary = annual_salary/12\n",
    "   # mth_savings = mth_salary*portion_saved\n",
    "    \n",
    "    while current_savings < portion_down_payment:\n",
    "        \n",
    "        if n < 3*12:  \n",
    "            n += 1\n",
    "            current_savings = current_savings *((1+r/12)) + mth_savings\n",
    "\n",
    "\n",
    "            if n % 6 == 0:\n",
    "    #             print('    ',n)\n",
    "    #             print('   ', mth_savings)\n",
    "    #             mth_savings = semi_annual_salary*(1 + semi_annual_raise)/6 * portion_saved\n",
    "        \n",
    "                annual_salary = annual_salary*(semi_annual_raise) + annual_salary\n",
    "                mth_salary = annual_salary/12\n",
    "                mth_savings = mth_salary*portion_saved\n",
    "                \n",
    "        else:\n",
    "            return \"It is impossible to pay he down paymen in 3 years!\"\n",
    "\n",
    "    return portion_saved, seach_step  \n",
    "    "
   ]
  },
  {
   "cell_type": "code",
   "execution_count": 59,
   "metadata": {},
   "outputs": [
    {
     "name": "stdout",
     "output_type": "stream",
     "text": [
      "Please input your annual salary: 80000\n",
      "Please input the portion of salary you plan to save each month for the new house(in decimal form): 0.1\n",
      "Please input the price of your dream house: 800000\n",
      "Please input your semi-annual raise ration in a decimal form: 0.03\n",
      "     6\n",
      "    666.6666666666667\n",
      "     12\n",
      "    686.6666666666667\n",
      "     18\n",
      "    707.2666666666668\n",
      "     24\n",
      "    728.4846666666667\n",
      "     30\n",
      "    750.3392066666668\n",
      "     36\n",
      "    772.8493828666667\n",
      "     42\n",
      "    796.0348643526668\n",
      "     48\n",
      "    819.9159102832468\n",
      "     54\n",
      "    844.5133875917442\n",
      "     60\n",
      "    869.8487892194964\n",
      "     66\n",
      "    895.9442528960814\n",
      "     72\n",
      "    922.8225804829638\n",
      "     78\n",
      "    950.5072578974527\n",
      "     84\n",
      "    979.0224756343762\n",
      "     90\n",
      "    1008.3931499034074\n",
      "     96\n",
      "    1038.6449444005098\n",
      "     102\n",
      "    1069.8042927325248\n",
      "     108\n",
      "    1101.8984215145008\n",
      "     114\n",
      "    1134.955374159936\n",
      "     120\n",
      "    1169.004035384734\n",
      "     126\n",
      "    1204.0741564462758\n",
      "     132\n",
      "    1240.1963811396643\n",
      "     138\n",
      "    1277.4022725738541\n",
      "     144\n",
      "    1315.7243407510696\n",
      "     150\n",
      "    1355.1960709736015\n",
      "     156\n",
      "    1395.8519531028096\n"
     ]
    },
    {
     "data": {
      "text/plain": [
       "159"
      ]
     },
     "execution_count": 59,
     "metadata": {},
     "output_type": "execute_result"
    }
   ],
   "source": [
    "house_hunting()"
   ]
  },
  {
   "cell_type": "code",
   "execution_count": null,
   "metadata": {},
   "outputs": [],
   "source": []
  },
  {
   "cell_type": "code",
   "execution_count": null,
   "metadata": {},
   "outputs": [],
   "source": []
  },
  {
   "cell_type": "code",
   "execution_count": null,
   "metadata": {},
   "outputs": [],
   "source": []
  },
  {
   "cell_type": "markdown",
   "metadata": {},
   "source": [
    "# NEXT STEP\n",
    "1. unittest \n",
    "2. \"what if the house price is inflating every year by 1% before you can reach your down payment how long will that you\""
   ]
  },
  {
   "cell_type": "code",
   "execution_count": null,
   "metadata": {},
   "outputs": [],
   "source": []
  }
 ],
 "metadata": {
  "kernelspec": {
   "display_name": "Python 3",
   "language": "python",
   "name": "python3"
  },
  "language_info": {
   "codemirror_mode": {
    "name": "ipython",
    "version": 3
   },
   "file_extension": ".py",
   "mimetype": "text/x-python",
   "name": "python",
   "nbconvert_exporter": "python",
   "pygments_lexer": "ipython3",
   "version": "3.6.3"
  }
 },
 "nbformat": 4,
 "nbformat_minor": 2
}
