{
 "cells": [
  {
   "cell_type": "markdown",
   "metadata": {},
   "source": [
    "# Recursion "
   ]
  },
  {
   "cell_type": "code",
   "execution_count": 11,
   "metadata": {},
   "outputs": [],
   "source": [
    "import time"
   ]
  },
  {
   "cell_type": "code",
   "execution_count": 12,
   "metadata": {},
   "outputs": [],
   "source": [
    "start_time = time.time()\n",
    "def mul(a,b):\n",
    "    if b == 1: \n",
    "        return a \n",
    "    else: \n",
    "        print(\"--- %s seconds ---\" % (time.time() - start_time))\n",
    "        return a + mul(a,b-1)\n"
   ]
  },
  {
   "cell_type": "code",
   "execution_count": 13,
   "metadata": {},
   "outputs": [
    {
     "name": "stdout",
     "output_type": "stream",
     "text": [
      "--- 1.1399319171905518 seconds ---\n",
      "--- 1.1402013301849365 seconds ---\n",
      "--- 1.140305519104004 seconds ---\n",
      "--- 1.1404733657836914 seconds ---\n",
      "--- 1.140566349029541 seconds ---\n",
      "--- 1.1407043933868408 seconds ---\n",
      "--- 1.140803575515747 seconds ---\n",
      "--- 1.1408929824829102 seconds ---\n",
      "--- 1.1409828662872314 seconds ---\n",
      "--- 1.141068935394287 seconds ---\n",
      "--- 1.1415133476257324 seconds ---\n",
      "--- 1.1417877674102783 seconds ---\n",
      "--- 1.141880989074707 seconds ---\n",
      "--- 1.141974925994873 seconds ---\n",
      "--- 1.142052412033081 seconds ---\n",
      "--- 1.1421337127685547 seconds ---\n",
      "--- 1.1422688961029053 seconds ---\n",
      "--- 1.1423580646514893 seconds ---\n",
      "--- 1.1424481868743896 seconds ---\n",
      "--- 1.142533779144287 seconds ---\n",
      "--- 1.1426198482513428 seconds ---\n",
      "--- 1.1427233219146729 seconds ---\n",
      "--- 1.1428067684173584 seconds ---\n",
      "--- 1.1428887844085693 seconds ---\n",
      "--- 1.1429719924926758 seconds ---\n",
      "--- 1.1430535316467285 seconds ---\n",
      "--- 1.1431357860565186 seconds ---\n",
      "--- 1.1432301998138428 seconds ---\n",
      "--- 1.1434471607208252 seconds ---\n",
      "--- 1.143559455871582 seconds ---\n",
      "--- 1.1436431407928467 seconds ---\n",
      "--- 1.143721342086792 seconds ---\n",
      "--- 1.1437976360321045 seconds ---\n",
      "--- 1.1438829898834229 seconds ---\n",
      "--- 1.143965721130371 seconds ---\n",
      "--- 1.1440439224243164 seconds ---\n",
      "--- 1.1441218852996826 seconds ---\n",
      "--- 1.144200325012207 seconds ---\n",
      "--- 1.1442813873291016 seconds ---\n",
      "--- 1.1443591117858887 seconds ---\n",
      "--- 1.1446409225463867 seconds ---\n",
      "--- 1.1449332237243652 seconds ---\n",
      "--- 1.145059585571289 seconds ---\n",
      "--- 1.1451759338378906 seconds ---\n",
      "--- 1.1452693939208984 seconds ---\n",
      "--- 1.1453564167022705 seconds ---\n",
      "--- 1.145442008972168 seconds ---\n",
      "--- 1.1456859111785889 seconds ---\n",
      "--- 1.1457719802856445 seconds ---\n",
      "--- 1.1458585262298584 seconds ---\n",
      "--- 1.1459429264068604 seconds ---\n",
      "--- 1.1460275650024414 seconds ---\n",
      "--- 1.146106243133545 seconds ---\n",
      "--- 1.146186351776123 seconds ---\n",
      "--- 1.146268367767334 seconds ---\n",
      "--- 1.1463518142700195 seconds ---\n",
      "--- 1.1464440822601318 seconds ---\n",
      "--- 1.1465306282043457 seconds ---\n",
      "--- 1.1466710567474365 seconds ---\n",
      "--- 1.146761178970337 seconds ---\n",
      "--- 1.1468474864959717 seconds ---\n",
      "--- 1.1469340324401855 seconds ---\n",
      "--- 1.1470239162445068 seconds ---\n",
      "--- 1.1473517417907715 seconds ---\n",
      "--- 1.1474642753601074 seconds ---\n",
      "--- 1.1475508213043213 seconds ---\n",
      "--- 1.1475694179534912 seconds ---\n",
      "--- 1.1475882530212402 seconds ---\n",
      "--- 1.1476130485534668 seconds ---\n",
      "--- 1.147632122039795 seconds ---\n",
      "--- 1.1481835842132568 seconds ---\n",
      "--- 1.1482102870941162 seconds ---\n",
      "--- 1.1482317447662354 seconds ---\n",
      "--- 1.1482524871826172 seconds ---\n",
      "--- 1.1482725143432617 seconds ---\n",
      "--- 1.148291826248169 seconds ---\n",
      "--- 1.1483118534088135 seconds ---\n",
      "--- 1.1483314037322998 seconds ---\n",
      "--- 1.148350715637207 seconds ---\n",
      "--- 1.1483707427978516 seconds ---\n",
      "--- 1.1483900547027588 seconds ---\n",
      "--- 1.1484100818634033 seconds ---\n",
      "--- 1.148430347442627 seconds ---\n",
      "--- 1.148449182510376 seconds ---\n",
      "--- 1.1484673023223877 seconds ---\n",
      "--- 1.1484856605529785 seconds ---\n",
      "--- 1.1485049724578857 seconds ---\n",
      "--- 1.1485238075256348 seconds ---\n",
      "--- 1.1485424041748047 seconds ---\n",
      "--- 1.1485621929168701 seconds ---\n",
      "--- 1.1485819816589355 seconds ---\n",
      "--- 1.1486022472381592 seconds ---\n",
      "--- 1.1486222743988037 seconds ---\n",
      "--- 1.1486423015594482 seconds ---\n",
      "--- 1.1486618518829346 seconds ---\n",
      "--- 1.1486811637878418 seconds ---\n",
      "--- 1.1487009525299072 seconds ---\n",
      "--- 1.148930311203003 seconds ---\n"
     ]
    },
    {
     "data": {
      "text/plain": [
       "792"
      ]
     },
     "execution_count": 13,
     "metadata": {},
     "output_type": "execute_result"
    }
   ],
   "source": [
    "mul(8,99)"
   ]
  },
  {
   "cell_type": "markdown",
   "metadata": {},
   "source": [
    "# For Loop"
   ]
  },
  {
   "cell_type": "code",
   "execution_count": null,
   "metadata": {},
   "outputs": [],
   "source": [
    "def mult(a,b):\n",
    "    cnt = 0\n",
    "    while b "
   ]
  },
  {
   "cell_type": "code",
   "execution_count": null,
   "metadata": {},
   "outputs": [],
   "source": []
  },
  {
   "cell_type": "code",
   "execution_count": null,
   "metadata": {},
   "outputs": [],
   "source": []
  },
  {
   "cell_type": "code",
   "execution_count": null,
   "metadata": {},
   "outputs": [],
   "source": []
  },
  {
   "cell_type": "code",
   "execution_count": null,
   "metadata": {},
   "outputs": [],
   "source": []
  },
  {
   "cell_type": "code",
   "execution_count": null,
   "metadata": {},
   "outputs": [],
   "source": []
  },
  {
   "cell_type": "code",
   "execution_count": null,
   "metadata": {},
   "outputs": [],
   "source": []
  },
  {
   "cell_type": "code",
   "execution_count": null,
   "metadata": {},
   "outputs": [],
   "source": []
  },
  {
   "cell_type": "code",
   "execution_count": null,
   "metadata": {},
   "outputs": [],
   "source": []
  },
  {
   "cell_type": "code",
   "execution_count": null,
   "metadata": {},
   "outputs": [],
   "source": []
  },
  {
   "cell_type": "code",
   "execution_count": null,
   "metadata": {},
   "outputs": [],
   "source": []
  },
  {
   "cell_type": "code",
   "execution_count": null,
   "metadata": {},
   "outputs": [],
   "source": []
  },
  {
   "cell_type": "code",
   "execution_count": null,
   "metadata": {},
   "outputs": [],
   "source": []
  },
  {
   "cell_type": "code",
   "execution_count": null,
   "metadata": {},
   "outputs": [],
   "source": []
  },
  {
   "cell_type": "code",
   "execution_count": null,
   "metadata": {},
   "outputs": [],
   "source": []
  },
  {
   "cell_type": "code",
   "execution_count": null,
   "metadata": {},
   "outputs": [],
   "source": []
  },
  {
   "cell_type": "code",
   "execution_count": null,
   "metadata": {},
   "outputs": [],
   "source": []
  }
 ],
 "metadata": {
  "kernelspec": {
   "display_name": "Python 3",
   "language": "python",
   "name": "python3"
  },
  "language_info": {
   "codemirror_mode": {
    "name": "ipython",
    "version": 3
   },
   "file_extension": ".py",
   "mimetype": "text/x-python",
   "name": "python",
   "nbconvert_exporter": "python",
   "pygments_lexer": "ipython3",
   "version": "3.6.3"
  }
 },
 "nbformat": 4,
 "nbformat_minor": 2
}
